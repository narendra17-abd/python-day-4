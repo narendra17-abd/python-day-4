{
  "nbformat": 4,
  "nbformat_minor": 0,
  "metadata": {
    "colab": {
      "provenance": [],
      "collapsed_sections": [
        "uRvHq6WK1iip",
        "HrRqpK9A1mvj",
        "ZlrFrill3Bl4"
      ]
    },
    "kernelspec": {
      "name": "python3",
      "display_name": "Python 3"
    },
    "language_info": {
      "name": "python"
    }
  },
  "cells": [
    {
      "cell_type": "markdown",
      "source": [
        "`Good morning, wish you all the best,.All the 3 assignment has been included here only`"
      ],
      "metadata": {
        "id": "jWYB760w4xUu"
      }
    },
    {
      "cell_type": "markdown",
      "source": [
        "# Part ONe"
      ],
      "metadata": {
        "id": "uRvHq6WK1iip"
      }
    },
    {
      "cell_type": "markdown",
      "source": [
        "## 1. Create a function that sum only the float number from a given hetrogenous list"
      ],
      "metadata": {
        "id": "xpZzcKAyyb6V"
      }
    },
    {
      "cell_type": "code",
      "source": [
        "def sum_floats(het_list):\n",
        "    total = 0.0\n",
        "    for x in het_list:\n",
        "        if isinstance(x, float):\n",
        "            total += x\n",
        "    return total\n",
        "\n",
        "a = [1, 25, 9, 9.77, True, 9.2]\n",
        "res = sum_floats(a)\n",
        "print(\"Sum of float numbers :\", res)"
      ],
      "metadata": {
        "id": "eLlEJRxTy8_f",
        "colab": {
          "base_uri": "https://localhost:8080/"
        },
        "outputId": "e4ca1d50-a116-4bcf-8708-44ceed787a9e"
      },
      "execution_count": 9,
      "outputs": [
        {
          "output_type": "stream",
          "name": "stdout",
          "text": [
            "Sum of float numbers : 18.97\n"
          ]
        }
      ]
    },
    {
      "cell_type": "code",
      "source": [
        "# reverse the list using the loop\n",
        "def rev_lis(input_list):\n",
        "    rev = []\n",
        "    for i in range(len(input_list) - 1, -1, -1):\n",
        "        rev.append(input_list[i])\n",
        "    return rev\n",
        "a = [1, 25, 9, 9.77, True, 9.2]\n",
        "reversed_list = rev_lis(a)\n",
        "print(\"Original list:\", a)\n",
        "print(\"Reversed list:\", reversed_list)"
      ],
      "metadata": {
        "id": "TO6D3KTSy9-x",
        "colab": {
          "base_uri": "https://localhost:8080/"
        },
        "outputId": "6d366498-d31c-4118-812d-efcc05aeecb2"
      },
      "execution_count": 12,
      "outputs": [
        {
          "output_type": "stream",
          "name": "stdout",
          "text": [
            "Original list: [1, 25, 9, 9.77, True, 9.2]\n",
            "Reversed list: [9.2, True, 9.77, 9, 25, 1]\n"
          ]
        }
      ]
    },
    {
      "cell_type": "markdown",
      "source": [
        "## 2. Count the total number of digit using the loop"
      ],
      "metadata": {
        "id": "MxMyCaZHzEB-"
      }
    },
    {
      "cell_type": "code",
      "source": [
        "def count_digits(input_list):\n",
        "    total_digits = 0\n",
        "    for x in input_list:\n",
        "        if isinstance(x, (int, float)):\n",
        "            total_digits += len(str(abs(x)))\n",
        "    return total_digits\n",
        "\n",
        "a = [1, 25, 9, 9.77, True, 9.2]\n",
        "total_digits = count_digits(a)\n",
        "print(\"Total number of digits in the list:\", total_digits)"
      ],
      "metadata": {
        "id": "DZYJiYdQzcVv",
        "colab": {
          "base_uri": "https://localhost:8080/"
        },
        "outputId": "4f253e35-69af-4924-a3fd-b18902e9f8f1"
      },
      "execution_count": 13,
      "outputs": [
        {
          "output_type": "stream",
          "name": "stdout",
          "text": [
            "Total number of digits in the list: 12\n"
          ]
        }
      ]
    },
    {
      "cell_type": "markdown",
      "source": [
        "## 3. Display this\n",
        "5 4 3 2 1\n",
        "\n",
        "4 3 2 1\n",
        "\n",
        "3 2 1\n",
        "\n",
        "2 1\n",
        "\n",
        "1"
      ],
      "metadata": {
        "id": "kG8Phx7VzYWD"
      }
    },
    {
      "cell_type": "code",
      "source": [
        "for x in range(5, 0, -1):\n",
        "    for y in range(x, 0, -1):\n",
        "        print(y, end=\" \")\n",
        "    print()"
      ],
      "metadata": {
        "colab": {
          "base_uri": "https://localhost:8080/"
        },
        "id": "56RZM43vOm1C",
        "outputId": "a152559f-4317-4e66-a0a3-87ec30a930d6"
      },
      "execution_count": 14,
      "outputs": [
        {
          "output_type": "stream",
          "name": "stdout",
          "text": [
            "5 4 3 2 1 \n",
            "4 3 2 1 \n",
            "3 2 1 \n",
            "2 1 \n",
            "1 \n"
          ]
        }
      ]
    },
    {
      "cell_type": "markdown",
      "source": [
        "## 4. Display this"
      ],
      "metadata": {
        "id": "xTaGWpQXzy-M"
      }
    },
    {
      "cell_type": "code",
      "source": [
        "*\n",
        "* *\n",
        "* * *\n",
        "* * * *\n",
        "* * * * *\n",
        "* * * *\n",
        "* * *\n",
        "* *\n",
        "*"
      ],
      "metadata": {
        "id": "ixPmbjRfzx16"
      },
      "execution_count": null,
      "outputs": []
    },
    {
      "cell_type": "code",
      "source": [
        "r = 5\n",
        "\n",
        "for x in range(r):\n",
        "    for y in range(x + 1):\n",
        "        print(\"*\", end=\" \")\n",
        "    print()\n",
        "\n",
        "for x in range(r - 1, 0, -1):\n",
        "    for y in range(x):\n",
        "        print(\"*\", end=\" \")\n",
        "    print()"
      ],
      "metadata": {
        "colab": {
          "base_uri": "https://localhost:8080/"
        },
        "id": "hq1T2bD2OxGz",
        "outputId": "b3d73f00-958f-4837-9c45-9287722d09d6"
      },
      "execution_count": 15,
      "outputs": [
        {
          "output_type": "stream",
          "name": "stdout",
          "text": [
            "* \n",
            "* * \n",
            "* * * \n",
            "* * * * \n",
            "* * * * * \n",
            "* * * * \n",
            "* * * \n",
            "* * \n",
            "* \n"
          ]
        }
      ]
    },
    {
      "cell_type": "markdown",
      "source": [
        "## 5. Write function that generate multiplication table upto a given range in Python"
      ],
      "metadata": {
        "id": "1OYQk9N70Ax3"
      }
    },
    {
      "cell_type": "code",
      "source": [
        "def mul_table(val):\n",
        "    for x in range(1, val + 1):\n",
        "        for y in range(1, val + 1):\n",
        "            print(x * y, end=\"\\t\")\n",
        "        print()\n",
        "\n",
        "val = 10\n",
        "print(f\"Multiplication table {val}:\")\n",
        "mul_table(val)"
      ],
      "metadata": {
        "id": "NeosDqO904-u",
        "colab": {
          "base_uri": "https://localhost:8080/"
        },
        "outputId": "6fe410c3-3637-47a1-8966-7f9e185050e8"
      },
      "execution_count": 17,
      "outputs": [
        {
          "output_type": "stream",
          "name": "stdout",
          "text": [
            "Multiplication table 10:\n",
            "1\t2\t3\t4\t5\t6\t7\t8\t9\t10\t\n",
            "2\t4\t6\t8\t10\t12\t14\t16\t18\t20\t\n",
            "3\t6\t9\t12\t15\t18\t21\t24\t27\t30\t\n",
            "4\t8\t12\t16\t20\t24\t28\t32\t36\t40\t\n",
            "5\t10\t15\t20\t25\t30\t35\t40\t45\t50\t\n",
            "6\t12\t18\t24\t30\t36\t42\t48\t54\t60\t\n",
            "7\t14\t21\t28\t35\t42\t49\t56\t63\t70\t\n",
            "8\t16\t24\t32\t40\t48\t56\t64\t72\t80\t\n",
            "9\t18\t27\t36\t45\t54\t63\t72\t81\t90\t\n",
            "10\t20\t30\t40\t50\t60\t70\t80\t90\t100\t\n"
          ]
        }
      ]
    },
    {
      "cell_type": "code",
      "source": [
        "# what are the difference between the list comprehension and loop??\n",
        "\n",
        "#for list comprehension\n",
        "s = [x**2 for x in range(10)]\n",
        "print(s)\n",
        "\n",
        "\n",
        "#for loop\n",
        "sq = []\n",
        "for x in range(10):\n",
        "    sq.append(x**2)\n",
        "print(sq)\n"
      ],
      "metadata": {
        "id": "V9z-kXUi0468",
        "colab": {
          "base_uri": "https://localhost:8080/"
        },
        "outputId": "96c950f5-1c5e-4c7a-d74d-1255c323ddb0"
      },
      "execution_count": 18,
      "outputs": [
        {
          "output_type": "stream",
          "name": "stdout",
          "text": [
            "[0, 1, 4, 9, 16, 25, 36, 49, 64, 81]\n",
            "[0, 1, 4, 9, 16, 25, 36, 49, 64, 81]\n"
          ]
        }
      ]
    },
    {
      "cell_type": "markdown",
      "source": [
        "# Part two"
      ],
      "metadata": {
        "id": "HrRqpK9A1mvj"
      }
    },
    {
      "cell_type": "markdown",
      "source": [
        "## 6. Write a python program for the palindrome checker using the loop"
      ],
      "metadata": {
        "id": "T36QPuxw1pfo"
      }
    },
    {
      "cell_type": "code",
      "source": [
        "def is_palindrome(string):\n",
        "    string = string.lower()\n",
        "    string = ''.join(string.split())\n",
        "    for i in range(len(string)//2):\n",
        "        if string[i] != string[len(string)-i-1]:\n",
        "            return False\n",
        "    return True\n",
        "\n",
        "input_string = input(\"Enter a string to check if it's a palindrome: \")\n",
        "if is_palindrome(input_string):\n",
        "    print(\"The string is a palindrome.\")\n",
        "else:\n",
        "    print(\"The string is not a palindrome.\")\n"
      ],
      "metadata": {
        "id": "m7XDSo01QVe4",
        "colab": {
          "base_uri": "https://localhost:8080/"
        },
        "outputId": "58363a64-8f18-4b33-ebd2-bae213c312dc"
      },
      "execution_count": 2,
      "outputs": [
        {
          "output_type": "stream",
          "name": "stdout",
          "text": [
            "Enter a string to check if it's a palindrome: holoh\n",
            "The string is a palindrome.\n"
          ]
        }
      ]
    },
    {
      "cell_type": "markdown",
      "source": [
        "## 7. Factorial Calculation\n",
        "Write a program that calculates the factorial of a given number using a loop. The user should input the number, and the program should display its factorial."
      ],
      "metadata": {
        "id": "QLZ4Dc1O1zHm"
      }
    },
    {
      "cell_type": "code",
      "source": [
        "\n",
        "num = int(input())\n",
        "if num < 0:\n",
        "    print(\"Factorial is not defined for negative numbers.\")\n",
        "else:\n",
        "    fact = 1\n",
        "    for i in range(1, num + 1):\n",
        "        fact *= i\n",
        "    print(f\"The factorial of {num} is: {fact}\")"
      ],
      "metadata": {
        "id": "XJZCGK0s2LYV",
        "colab": {
          "base_uri": "https://localhost:8080/"
        },
        "outputId": "3f727c0c-db48-44ce-91df-a1d5e0266b22"
      },
      "execution_count": 20,
      "outputs": [
        {
          "output_type": "stream",
          "name": "stdout",
          "text": [
            "20\n",
            "The factorial of 20 is: 2432902008176640000\n"
          ]
        }
      ]
    },
    {
      "cell_type": "markdown",
      "source": [
        "## 8. Binary to Decimal Converter\n",
        "Create a program that converts a binary number (entered by the user) to its decimal equivalent. The user should input the binary number as a string, and the program should output its decimal equivalent."
      ],
      "metadata": {
        "id": "dAX_1Cgx2LtY"
      }
    },
    {
      "cell_type": "code",
      "source": [
        "def binary_to_decimal(binary):\n",
        "    decimal = 0\n",
        "    power = len(binary) - 1\n",
        "\n",
        "    for digit in binary:\n",
        "        if digit == '1':\n",
        "            decimal += 2 ** power\n",
        "        power -= 1\n",
        "\n",
        "    return decimal\n",
        "\n",
        "binary_number = input(\"Enter a binary number: \")\n",
        "if all(bit in '01' for bit in binary_number):\n",
        "    decimal_equivalent = binary_to_decimal(binary_number)\n",
        "    print(\"Decimal equivalent:\", decimal_equivalent)\n",
        "else:\n",
        "    print(\"Invalid binary number. Please enter a binary number containing only 0s and 1s.\")\n"
      ],
      "metadata": {
        "id": "JuRRKukfQYoP",
        "colab": {
          "base_uri": "https://localhost:8080/"
        },
        "outputId": "4dff1764-f2b2-4a0b-e938-e408ac56a1d5"
      },
      "execution_count": 22,
      "outputs": [
        {
          "output_type": "stream",
          "name": "stdout",
          "text": [
            "Enter a binary number: 1011\n",
            "Decimal equivalent: 11\n"
          ]
        }
      ]
    },
    {
      "cell_type": "markdown",
      "source": [
        "## 10. Matrix Transposition:\n",
        "Create a program that transposes a given matrix. The user should input the matrix as a list of lists, and the program should output the transposed matrix. For example, if the input is:"
      ],
      "metadata": {
        "id": "bhFgXCu52R3n"
      }
    },
    {
      "cell_type": "code",
      "source": [
        "def transpose_matrix(matrix):\n",
        "    rows = len(matrix)\n",
        "    cols = len(matrix[0])\n",
        "    transposed_matrix = [[0 for _ in range(rows)] for _ in range(cols)]\n",
        "\n",
        "    for i in range(rows):\n",
        "        for j in range(cols):\n",
        "            transposed_matrix[j][i] = matrix[i][j]\n",
        "\n",
        "    return transposed_matrix\n",
        "\n",
        "matrix = []\n",
        "rows = int(input(\"Enter the number of rows: \"))\n",
        "cols = int(input(\"Enter the number of columns: \"))\n",
        "\n",
        "print(\"Enter the elements of the matrix:\")\n",
        "for i in range(rows):\n",
        "    row = []\n",
        "    for j in range(cols):\n",
        "        element = int(input(f\"Enter element [{i+1}][{j+1}]: \"))\n",
        "        row.append(element)\n",
        "    matrix.append(row)\n",
        "\n",
        "transposed_matrix = transpose_matrix(matrix)\n",
        "print(\"\\nTransposed Matrix:\")\n",
        "for row in transposed_matrix:\n",
        "    print(row)"
      ],
      "metadata": {
        "id": "DhprwtQ02hWg",
        "colab": {
          "base_uri": "https://localhost:8080/"
        },
        "outputId": "596098c5-6373-448a-a39f-3c519a0f1713"
      },
      "execution_count": 21,
      "outputs": [
        {
          "output_type": "stream",
          "name": "stdout",
          "text": [
            "Enter the number of rows: 3\n",
            "Enter the number of columns: 3\n",
            "Enter the elements of the matrix:\n",
            "Enter element [1][1]: 1\n",
            "Enter element [1][2]: 2\n",
            "Enter element [1][3]: 3\n",
            "Enter element [2][1]: 4\n",
            "Enter element [2][2]: 5\n",
            "Enter element [2][3]: 6\n",
            "Enter element [3][1]: 7\n",
            "Enter element [3][2]: 8\n",
            "Enter element [3][3]: 9\n",
            "\n",
            "Transposed Matrix:\n",
            "[1, 4, 7]\n",
            "[2, 5, 8]\n",
            "[3, 6, 9]\n"
          ]
        }
      ]
    },
    {
      "cell_type": "markdown",
      "source": [
        "`Feel free to tackle these exercises and let me know if you have any questions or need further explanations!`"
      ],
      "metadata": {
        "id": "l1a5wpfM2hv6"
      }
    },
    {
      "cell_type": "markdown",
      "source": [
        "# Part Three File Handling\n",
        "Calm and do it slowly and in github also try to upload the files possible"
      ],
      "metadata": {
        "id": "ZlrFrill3Bl4"
      }
    },
    {
      "cell_type": "markdown",
      "source": [
        "## 11. program to open the text file and edit it"
      ],
      "metadata": {
        "id": "-9k8YJfF3BLW"
      }
    },
    {
      "cell_type": "code",
      "source": [
        "from google.colab import drive\n",
        "drive.mount('/content/drive')"
      ],
      "metadata": {
        "id": "gYTCj4GY2JdE"
      },
      "execution_count": null,
      "outputs": []
    },
    {
      "cell_type": "code",
      "source": [
        "# Open the file in read mode\n",
        "with open('lol.txt', 'r') as file:\n",
        "    # Read the content of the file\n",
        "    content = file.read()\n",
        "\n",
        "# Edit the content as needed\n",
        "# For example, let's add some text at the end\n",
        "content += \"\\ngood morning everyone \"\n",
        "\n",
        "# Open the file in write mode to save the changes\n",
        "with open('lol.txt', 'w') as file:\n",
        "    # Write the modified content back to the file\n",
        "    file.write(content)"
      ],
      "metadata": {
        "id": "cht05GtB2Z50"
      },
      "execution_count": null,
      "outputs": []
    },
    {
      "cell_type": "markdown",
      "source": [
        "## 12. Program to list all the file in the directory\n"
      ],
      "metadata": {
        "id": "ovYWZKNH3AH_"
      }
    },
    {
      "cell_type": "code",
      "source": [
        "import os\n",
        "\n",
        "D='/content/drive/MyDrive/lolabc'\n",
        "print(D)\n"
      ],
      "metadata": {
        "id": "S260xGwo38vk"
      },
      "execution_count": null,
      "outputs": []
    },
    {
      "cell_type": "code",
      "source": [
        "for f in os.listdir(D):\n",
        "    print(f)"
      ],
      "metadata": {
        "id": "yunP0ATg2rD_"
      },
      "execution_count": null,
      "outputs": []
    },
    {
      "cell_type": "markdown",
      "source": [
        "## 13. program to find the name of list only the text file and only the image file specifically\n"
      ],
      "metadata": {
        "id": "pNalRqq-3mjE"
      }
    },
    {
      "cell_type": "code",
      "source": [
        "import os\n",
        "\n",
        "def list_text_files(sample_data):\n",
        "    text_files = [file for file in os.listdir(sample_data) if file.lower().endswith(('.txt', '.csv', '.log'))]\n",
        "    return text_files\n",
        "\n",
        "def list_image_files(sample_data):\n",
        "    image_files = [file for file in os.listdir(sample_data) if file.lower().endswith(('.jpg', '.jpeg', '.png', '.gif', '.bmp'))]\n",
        "    return image_files\n",
        "\n",
        "# Replace 'your_directory_path' with the actual path of the directory\n",
        "directory_path = '/content/data_science'\n",
        "\n",
        "text_files = list_text_files(directory_path)\n",
        "image_files = list_image_files(directory_path)\n",
        "\n",
        "print(\"Text Files:\")\n",
        "for text_file in text_files:\n",
        "    print(text_file)\n",
        "\n",
        "print(\"Image Files:\")\n",
        "for image_file in image_files:\n",
        "    print(image_file)\n"
      ],
      "metadata": {
        "id": "2UveKqHB23Yl"
      },
      "execution_count": null,
      "outputs": []
    },
    {
      "cell_type": "markdown",
      "source": [
        "## 14. Program to copy the the file and also the bundle of file to the specific location"
      ],
      "metadata": {
        "id": "7xVL49o739jv"
      }
    },
    {
      "cell_type": "code",
      "source": [
        "file1 = open(\"file1.txt\", \"r\")\n",
        "file2 = open(\"file2.txt\", \"w\")\n",
        "\n",
        "for line in file1:\n",
        "    file2.write(line)\n",
        "\n",
        "file1.close()\n",
        "file2.close()\n",
        "\n",
        "# Now, open \"file2.txt\" for reading and print its content\n",
        "file3 = open(\"file2.txt\", \"r\")\n",
        "print(file3.read())\n",
        "\n",
        "file3.close()\n"
      ],
      "metadata": {
        "id": "rlMl6YVH4I_z"
      },
      "execution_count": null,
      "outputs": []
    },
    {
      "cell_type": "markdown",
      "source": [
        "## 15. Program to delete the specific file and folder"
      ],
      "metadata": {
        "id": "rzaMo5ZT4E7R"
      }
    },
    {
      "cell_type": "code",
      "source": [
        "import os\n",
        "import shutil\n",
        "\n",
        "# Check if the file exists and delete it\n",
        "if os.path.isfile(\"wecome.txt\"):\n",
        "    os.remove(\"wecome.txt\")\n",
        "    print(\"File 'wecome.txt' deleted\")\n",
        "else:\n",
        "    print(\"File 'wecome.txt' not found\")\n",
        "\n",
        "# Check if the directory \"empty-dir\" exists and delete it\n",
        "if os.path.isdir(\"empty-dir\"):\n",
        "    os.rmdir(\"empty-dir\")\n",
        "    print(\"Directory 'empty-dir' deleted\")\n",
        "else:\n",
        "    print(\"Directory 'empty-dir' not found\")\n",
        "\n",
        "# Check if the directory \"nonempty-dir\" exists and delete it with all its contents\n",
        "if os.path.isdir(\"nonempty-dir\"):\n",
        "    shutil.rmtree(\"nonempty-dir\")\n",
        "    print(\"Directory 'nonempty-dir' and its contents deleted\")\n",
        "else:\n",
        "    print(\"Directory 'nonempty-dir' not found\")\n"
      ],
      "metadata": {
        "id": "Gpw4a5194oaa"
      },
      "execution_count": null,
      "outputs": []
    },
    {
      "cell_type": "markdown",
      "source": [],
      "metadata": {
        "id": "O2PS1zXT4pF5"
      }
    }
  ]
}